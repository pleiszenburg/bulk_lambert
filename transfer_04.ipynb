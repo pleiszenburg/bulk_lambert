{
 "cells": [
  {
   "cell_type": "code",
   "execution_count": 1,
   "metadata": {},
   "outputs": [],
   "source": [
    "from bulk_lambert.bulk import propagate, lambert\n",
    "\n",
    "from astropy import time\n",
    "from astropy import units as u\n",
    "\n",
    "import numpy as np\n",
    "\n",
    "from poliastro.ephem import Ephem\n",
    "from poliastro.twobody import Orbit\n",
    "from poliastro.bodies import Earth, Mars, Sun\n",
    "from poliastro.util import time_range"
   ]
  },
  {
   "cell_type": "code",
   "execution_count": 2,
   "metadata": {},
   "outputs": [],
   "source": [
    "date_launch = time.Time(\"2011-11-26 15:02\", scale=\"utc\").tdb\n",
    "date_arrival = time.Time(\"2012-08-06 05:17\", scale=\"utc\").tdb\n",
    "\n",
    "earth = Ephem.from_body(Earth, time_range(date_launch, end=date_arrival))\n",
    "mars = Ephem.from_body(Mars, time_range(date_launch, end=date_arrival))\n",
    "\n",
    "ss_earth = Orbit.from_ephem(Sun, earth, date_launch)\n",
    "ss_mars = Orbit.from_ephem(Sun, mars, date_arrival)"
   ]
  },
  {
   "cell_type": "code",
   "execution_count": 3,
   "metadata": {},
   "outputs": [
    {
     "name": "stderr",
     "output_type": "stream",
     "text": [
      "WARNING: ErfaWarning: ERFA function \"taiutc\" yielded 50 of \"dubious year (Note 4)\" [astropy._erfa.core]\n"
     ]
    }
   ],
   "source": [
    "dates = time_range(start = time.Time(\"2016-01-01 00:00\"), spacing = 7 * u.d, periods = 52 * 10)"
   ]
  },
  {
   "cell_type": "code",
   "execution_count": 4,
   "metadata": {},
   "outputs": [
    {
     "name": "stderr",
     "output_type": "stream",
     "text": [
      "WARNING: ErfaWarning: ERFA function \"utctai\" yielded 50 of \"dubious year (Note 3)\" [astropy._erfa.core]\n"
     ]
    }
   ],
   "source": [
    "earth_rr, earth_vv = propagate(ss_earth, dates)\n",
    "mars_rr, mars_vv = propagate(ss_mars, dates)"
   ]
  },
  {
   "cell_type": "code",
   "execution_count": 13,
   "metadata": {},
   "outputs": [
    {
     "name": "stderr",
     "output_type": "stream",
     "text": [
      "WARNING: ErfaWarning: ERFA function \"utctai\" yielded 1 of \"dubious year (Note 3)\" [astropy._erfa.core]\n",
      "WARNING: ErfaWarning: ERFA function \"taiutc\" yielded 50 of \"dubious year (Note 4)\" [astropy._erfa.core]\n"
     ]
    }
   ],
   "source": [
    "epochs_select, tofs, dv, MM, dv1, dv2 = lambert(\n",
    "    attractor = Sun,\n",
    "    rr_i = earth_rr,\n",
    "    vv_i = earth_vv,\n",
    "    rr_f = mars_rr,\n",
    "    vv_f = mars_vv,\n",
    "    epoch_start = dates[0],\n",
    "    epoch_stop = dates[-1],\n",
    "    tof_steps_start = 4,\n",
    "    tof_steps_stop = 105,\n",
    ")"
   ]
  },
  {
   "cell_type": "code",
   "execution_count": 19,
   "metadata": {},
   "outputs": [
    {
     "name": "stdout",
     "output_type": "stream",
     "text": [
      "552 ms ± 12.2 ms per loop (mean ± std. dev. of 7 runs, 1 loop each)\n"
     ]
    }
   ],
   "source": [
    "%timeit lambert(attractor = Sun, rr_i = earth_rr, vv_i = earth_vv, rr_f = mars_rr, vv_f = mars_vv, epoch_start = dates[0], epoch_stop = dates[-1], tof_steps_start = 4, tof_steps_stop = 105,)"
   ]
  },
  {
   "cell_type": "code",
   "execution_count": 30,
   "metadata": {},
   "outputs": [],
   "source": [
    "%matplotlib inline\n",
    "import matplotlib.pyplot as plt"
   ]
  },
  {
   "cell_type": "code",
   "execution_count": 43,
   "metadata": {},
   "outputs": [
    {
     "data": {
      "image/png": "[encoded data removed]",
      "text/plain": [
       "<Figure size 432x288 with 1 Axes>"
      ]
     },
     "metadata": {
      "needs_background": "light"
     },
     "output_type": "display_data"
    }
   ],
   "source": [
    "fig, ax = plt.subplots()\n",
    "\n",
    "c = ax.contourf(\n",
    "    [date.to_datetime() for date in epochs_select],\n",
    "    [dt.value for dt in tofs.to(u.week)],\n",
    "    np.transpose(dv),\n",
    ")"
   ]
  },
  {
   "cell_type": "code",
   "execution_count": 48,
   "metadata": {},
   "outputs": [],
   "source": [
    "fig.savefig('export.png')"
   ]
  },
  {
   "cell_type": "code",
   "execution_count": null,
   "metadata": {},
   "outputs": [],
   "source": []
  }
 ],
 "metadata": {
  "kernelspec": {
   "display_name": "Python 3",
   "language": "python",
   "name": "python3"
  },
  "language_info": {
   "codemirror_mode": {
    "name": "ipython",
    "version": 3
   },
   "file_extension": ".py",
   "mimetype": "text/x-python",
   "name": "python",
   "nbconvert_exporter": "python",
   "pygments_lexer": "ipython3",
   "version": "3.8.5"
  }
 },
 "nbformat": 4,
 "nbformat_minor": 4
}
