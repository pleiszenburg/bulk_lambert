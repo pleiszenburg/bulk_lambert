{
 "cells": [
  {
   "cell_type": "code",
   "execution_count": 1,
   "metadata": {},
   "outputs": [],
   "source": [
    "from bulk_lambert.bulk import propagate as propagate_cpu\n",
    "from bulk_lambert.cuda.bulk import propagate as propagate_gpu\n",
    "\n",
    "from astropy import time\n",
    "from astropy import units as u\n",
    "\n",
    "import numpy as np\n",
    "\n",
    "from poliastro.ephem import Ephem\n",
    "from poliastro.twobody import Orbit\n",
    "from poliastro.bodies import Earth, Mars, Sun\n",
    "from poliastro.util import time_range"
   ]
  },
  {
   "cell_type": "code",
   "execution_count": 2,
   "metadata": {},
   "outputs": [],
   "source": [
    "date_launch = time.Time(\"2011-11-26 15:02\", scale=\"utc\").tdb\n",
    "date_arrival = time.Time(\"2012-08-06 05:17\", scale=\"utc\").tdb\n",
    "\n",
    "earth = Ephem.from_body(Earth, time_range(date_launch, end=date_arrival))\n",
    "mars = Ephem.from_body(Mars, time_range(date_launch, end=date_arrival))"
   ]
  },
  {
   "cell_type": "code",
   "execution_count": 3,
   "metadata": {},
   "outputs": [
    {
     "name": "stderr",
     "output_type": "stream",
     "text": [
      "WARNING: ErfaWarning: ERFA function \"taiutc\" yielded 50 of \"dubious year (Note 4)\" [astropy._erfa.core]\n"
     ]
    }
   ],
   "source": [
    "dates = time_range(start = time.Time(\"2016-01-01 00:00\"), spacing = 7 * u.d, periods = 52 * 10)"
   ]
  },
  {
   "cell_type": "code",
   "execution_count": 4,
   "metadata": {},
   "outputs": [
    {
     "name": "stderr",
     "output_type": "stream",
     "text": [
      "WARNING: ErfaWarning: ERFA function \"utctai\" yielded 50 of \"dubious year (Note 3)\" [astropy._erfa.core]\n"
     ]
    }
   ],
   "source": [
    "ss_earth = Orbit.from_ephem(Sun, earth, date_launch)\n",
    "ss_mars = Orbit.from_ephem(Sun, mars, date_arrival)\n",
    "\n",
    "earth_rr, earth_vv = propagate_cpu(ss_earth, dates)\n",
    "mars_rr, mars_vv = propagate_cpu(ss_mars, dates)"
   ]
  },
  {
   "cell_type": "code",
   "execution_count": 5,
   "metadata": {},
   "outputs": [],
   "source": [
    "ss_earth = Orbit.from_ephem(Sun, earth, date_launch)\n",
    "ss_mars = Orbit.from_ephem(Sun, mars, date_arrival)\n",
    "\n",
    "earth_rrG, earth_vvG = propagate_gpu(ss_earth, dates)\n",
    "mars_rrG, mars_vvG = propagate_gpu(ss_mars, dates)"
   ]
  },
  {
   "cell_type": "code",
   "execution_count": 9,
   "metadata": {},
   "outputs": [
    {
     "name": "stdout",
     "output_type": "stream",
     "text": [
      "2.28 ms ± 30.7 µs per loop (mean ± std. dev. of 7 runs, 100 loops each)\n"
     ]
    }
   ],
   "source": [
    "%timeit propagate_cpu(ss_earth, dates)"
   ]
  },
  {
   "cell_type": "code",
   "execution_count": 10,
   "metadata": {},
   "outputs": [
    {
     "name": "stdout",
     "output_type": "stream",
     "text": [
      "1.67 ms ± 10.8 µs per loop (mean ± std. dev. of 7 runs, 1000 loops each)\n"
     ]
    }
   ],
   "source": [
    "%timeit propagate_gpu(ss_earth, dates)"
   ]
  },
  {
   "cell_type": "code",
   "execution_count": 8,
   "metadata": {},
   "outputs": [
    {
     "data": {
      "text/plain": [
       "True"
      ]
     },
     "execution_count": 8,
     "metadata": {},
     "output_type": "execute_result"
    }
   ],
   "source": [
    "all([\n",
    "    np.all(np.isclose(earth_rr.value, earth_rrG.value))\n",
    "    for a, b in (\n",
    "        (earth_rr.value, earth_rrG.value),\n",
    "        (mars_rr.value, mars_rrG.value),\n",
    "        (earth_vv.value, earth_vvG.value),\n",
    "        (mars_vv.value, mars_vvG.value),\n",
    "    )\n",
    "])"
   ]
  },
  {
   "cell_type": "code",
   "execution_count": null,
   "metadata": {},
   "outputs": [],
   "source": []
  }
 ],
 "metadata": {
  "kernelspec": {
   "display_name": "Python 3",
   "language": "python",
   "name": "python3"
  },
  "language_info": {
   "codemirror_mode": {
    "name": "ipython",
    "version": 3
   },
   "file_extension": ".py",
   "mimetype": "text/x-python",
   "name": "python",
   "nbconvert_exporter": "python",
   "pygments_lexer": "ipython3",
   "version": "3.8.5"
  }
 },
 "nbformat": 4,
 "nbformat_minor": 4
}
